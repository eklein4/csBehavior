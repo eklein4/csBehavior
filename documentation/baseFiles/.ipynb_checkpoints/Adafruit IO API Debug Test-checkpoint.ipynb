{
 "cells": [
  {
   "cell_type": "markdown",
   "metadata": {},
   "source": [
    "# Testing Adafruit IO API\n",
    "#### https://adafruit-io-python-client.readthedocs.io/en/latest/index.html"
   ]
  },
  {
   "cell_type": "code",
   "execution_count": 2,
   "metadata": {},
   "outputs": [],
   "source": [
    "import datetime\n",
    "import time\n",
    "from Adafruit_IO import *\n",
    "\n",
    "from datetime import timezone\n",
    "from dateutil.parser import parse as dparse"
   ]
  },
  {
   "cell_type": "code",
   "execution_count": 3,
   "metadata": {},
   "outputs": [],
   "source": [
    "import pandas as pd"
   ]
  },
  {
   "cell_type": "code",
   "execution_count": 4,
   "metadata": {},
   "outputs": [],
   "source": [
    "dStamp=datetime.datetime.now().strftime(\"%m_%d_%Y\")\n",
    "hashPath = '/Users/cad/simpHashes/csIO.txt'"
   ]
  },
  {
   "cell_type": "code",
   "execution_count": 5,
   "metadata": {},
   "outputs": [],
   "source": [
    "def getMQTTLast(feedName,mqttObj):\n",
    "\t\tlastFeedVal='NA'\n",
    "\t\ttry:\n",
    "\t\t\tlastFeedVal = mqttObj.receive(feedName)\n",
    "\t\texcept:\n",
    "\t\t\tpass\n",
    "\t\treturn lastFeedVal\n",
    "\n",
    "def getDailyConsumption(mqObj,sID,hourThresh):\n",
    "\t\ttimeNow = datetime.datetime.now(timezone.utc)\n",
    "\t\tdStamp=timeNow.strftime(\"%m_%d_%Y\")\n",
    "\t\t\n",
    "\t\t# we want to determine how much water the subject has had in the last day.\n",
    "\t\t# and we want to know how much water they are supposed to have.\n",
    "\t\t# we assumne they haven't had any water\n",
    "\t\twaterConsumed=0\n",
    "\t\t# and we assume they need the default volume (1.5 - 2 ml)\n",
    "\t\twaterNeeded=2\n",
    "\t\t# we will eventually see how far our last data logged is from now.\n",
    "\t\t# we will assume the worst, meaning 2 hours for a session and no data logged before\n",
    "\t\thourDif=22\n",
    "\n",
    "\t\t# Now we poll the subjects water needed feed\n",
    "\t\ttry:\n",
    "\t\t\t\n",
    "\t\t\ttWNeed=getMQTTLast(sID+'-waterneeded',mqObj)\n",
    "\t\t\t\n",
    "\t\t\ttWTime = dparse(tWNeed.created_at)\n",
    "\t\t\ttWHourDif = timeNow - tWTime\n",
    "\t\t\thourDif = float('{:0.3f}'.format(float(tWHourDif.total_seconds()/3600)))\n",
    "\n",
    "\t\t\tif hourDif<=hourThresh:\n",
    "\t\t\t\twaterNeeded=float('{:0.4f}'.format(float(tWNeed.value)))\n",
    "\n",
    "\n",
    "\t\texcept:\n",
    "\t\t\tpass\n",
    "\n",
    "\t\t# now we need to do the same for what has been consumed\n",
    "\t\ttry:\n",
    "\t\t\tgDP=getMQTTLast(sID+'-waterconsumed',mqObj)\n",
    "\t\t\tgDPTime = dparse(gDP.created_at)\n",
    "\t\t\tgpHourDif = timeNow - gDPTime\n",
    "\t\t\tgpHourDifSec = float('{:0.3f}'.format(float(gpHourDif.total_seconds()/3600)))\n",
    "\t\t\tif gpHourDifSec<=hourThresh:\n",
    "\t\t\t\twaterConsumed=float('{:0.4f}'.format(float(gDP.value)))\n",
    "\t\t\n",
    "\t\texcept:\n",
    "\t\t\twaterConsumed=0\n",
    "\t\t\thourDif = 0\n",
    "\t\t\n",
    "\t\t\n",
    "\t\treturn waterConsumed,waterNeeded,hourDif,dStamp\n",
    "    \n",
    "def sendData(feedName,dataToSend,mqttObj):\n",
    "\t\ttFeed = mqttObj.feeds(feedName)\n",
    "\t\tmqttObj.send_data(tFeed.key,dataToSend)"
   ]
  },
  {
   "cell_type": "code",
   "execution_count": 6,
   "metadata": {},
   "outputs": [],
   "source": [
    "def connect_REST(hashPath):\n",
    "    simpHash=open(hashPath)\n",
    "    a=list(simpHash)\n",
    "    userName = a[0].strip()\n",
    "    apiKey = a[1]\n",
    "    restClient = Client(userName,apiKey)\n",
    "    return restClient\n",
    "    \n",
    "def connect_MQTT(hashPath):\n",
    "    simpHash=open(hashPath)\n",
    "    a=list(simpHash)\n",
    "    userName = a[0].strip()\n",
    "    apiKey = a[1]\n",
    "    mqttClient = MQTTClient(userName,apiKey)\n",
    "    return mqttClient"
   ]
  },
  {
   "cell_type": "code",
   "execution_count": 7,
   "metadata": {},
   "outputs": [],
   "source": [
    "aio=connect_REST(hashPath)"
   ]
  },
  {
   "cell_type": "code",
   "execution_count": 8,
   "metadata": {},
   "outputs": [
    {
     "data": {
      "text/plain": [
       "Adafruit_IO.client.Client"
      ]
     },
     "execution_count": 8,
     "metadata": {},
     "output_type": "execute_result"
    }
   ],
   "source": [
    "type(aio)"
   ]
  },
  {
   "cell_type": "code",
   "execution_count": 9,
   "metadata": {},
   "outputs": [],
   "source": [
    "# check all the feeds\n",
    "# This will make a list of all feeds.\n",
    "allFeeds = aio.feeds()"
   ]
  },
  {
   "cell_type": "code",
   "execution_count": 10,
   "metadata": {},
   "outputs": [
    {
     "name": "stdout",
     "output_type": "stream",
     "text": [
      "[Feed(name='newFeed', key='newfeed', description=None, unit_type=None, unit_symbol=None, history=True, visibility='private', license=None, status_notify=False, status_timeout=60), Feed(name='rig-ubuntu', key='rig-ubuntu', description=None, unit_type=None, unit_symbol=None, history=True, visibility='private', license=None, status_notify=False, status_timeout=60), Feed(name='ci01-rig', key='ci01-rig', description=None, unit_type=None, unit_symbol=None, history=True, visibility='private', license=None, status_notify=False, status_timeout=60), Feed(name='ci01-task', key='ci01-task', description=None, unit_type=None, unit_symbol=None, history=True, visibility='private', license=None, status_notify=False, status_timeout=60), Feed(name='ci01-waterconsumed', key='ci01-waterconsumed', description=None, unit_type=None, unit_symbol=None, history=True, visibility='private', license=None, status_notify=False, status_timeout=60), Feed(name='ci01-targetconsumption', key='ci01-targetconsumption', description=None, unit_type=None, unit_symbol=None, history=True, visibility='private', license=None, status_notify=False, status_timeout=60), Feed(name='ci01-weight', key='ci01-weight', description=None, unit_type=None, unit_symbol=None, history=True, visibility='private', license=None, status_notify=False, status_timeout=60), Feed(name='ci01-performance', key='ci01-performance', description=None, unit_type=None, unit_symbol=None, history=True, visibility='private', license=None, status_notify=False, status_timeout=60), Feed(name='strongsad-rig', key='strongsad-rig', description=None, unit_type=None, unit_symbol=None, history=True, visibility='private', license=None, status_notify=False, status_timeout=60), Feed(name='strongsad-task', key='strongsad-task', description=None, unit_type=None, unit_symbol=None, history=True, visibility='private', license=None, status_notify=False, status_timeout=60), Feed(name='strongsad-waterconsumed', key='strongsad-waterconsumed', description=None, unit_type=None, unit_symbol=None, history=True, visibility='private', license=None, status_notify=False, status_timeout=60), Feed(name='strongsad-targetconsumption', key='strongsad-targetconsumption', description=None, unit_type=None, unit_symbol=None, history=True, visibility='private', license=None, status_notify=False, status_timeout=60), Feed(name='strongsad-weight', key='strongsad-weight', description=None, unit_type=None, unit_symbol=None, history=True, visibility='private', license=None, status_notify=False, status_timeout=60), Feed(name='strongsad-performance', key='strongsad-performance', description=None, unit_type=None, unit_symbol=None, history=True, visibility='private', license=None, status_notify=False, status_timeout=60), Feed(name='an1-rig', key='an1-rig', description=None, unit_type=None, unit_symbol=None, history=True, visibility='private', license=None, status_notify=False, status_timeout=60), Feed(name='an1-task', key='an1-task', description=None, unit_type=None, unit_symbol=None, history=True, visibility='private', license=None, status_notify=False, status_timeout=60), Feed(name='an1-waterconsumed', key='an1-waterconsumed', description=None, unit_type=None, unit_symbol=None, history=True, visibility='private', license=None, status_notify=False, status_timeout=60), Feed(name='an1-targetconsumption', key='an1-targetconsumption', description=None, unit_type=None, unit_symbol=None, history=True, visibility='private', license=None, status_notify=False, status_timeout=60), Feed(name='an1-weight', key='an1-weight', description=None, unit_type=None, unit_symbol=None, history=True, visibility='private', license=None, status_notify=False, status_timeout=60), Feed(name='an1-performance', key='an1-performance', description=None, unit_type=None, unit_symbol=None, history=True, visibility='private', license=None, status_notify=False, status_timeout=60), Feed(name='rig-cstwophotona', key='rig-cstwophotona', description=None, unit_type=None, unit_symbol=None, history=True, visibility='private', license=None, status_notify=False, status_timeout=60), Feed(name='testtext', key='testtext', description=None, unit_type=None, unit_symbol=None, history=True, visibility='private', license=None, status_notify=False, status_timeout=60), Feed(name='cix19-rig', key='cix19-rig', description=None, unit_type=None, unit_symbol=None, history=True, visibility='private', license=None, status_notify=False, status_timeout=60), Feed(name='cix19-task', key='cix19-task', description=None, unit_type=None, unit_symbol=None, history=True, visibility='private', license=None, status_notify=False, status_timeout=60), Feed(name='cix19-waterconsumed', key='cix19-waterconsumed', description=None, unit_type=None, unit_symbol=None, history=True, visibility='private', license=None, status_notify=False, status_timeout=60), Feed(name='cix19-targetconsumption', key='cix19-targetconsumption', description=None, unit_type=None, unit_symbol=None, history=True, visibility='private', license=None, status_notify=False, status_timeout=60), Feed(name='cix19-weight', key='cix19-weight', description=None, unit_type=None, unit_symbol=None, history=True, visibility='private', license=None, status_notify=False, status_timeout=60), Feed(name='cix19-performance', key='cix19-performance', description=None, unit_type=None, unit_symbol=None, history=True, visibility='private', license=None, status_notify=False, status_timeout=60), Feed(name='cix19-notes', key='cix19-notes', description=None, unit_type=None, unit_symbol=None, history=True, visibility='private', license=None, status_notify=False, status_timeout=60), Feed(name='cix100-rig', key='cix100-rig', description=None, unit_type=None, unit_symbol=None, history=True, visibility='private', license=None, status_notify=False, status_timeout=60), Feed(name='cix100-task', key='cix100-task', description=None, unit_type=None, unit_symbol=None, history=True, visibility='private', license=None, status_notify=False, status_timeout=60), Feed(name='cix100-waterconsumed', key='cix100-waterconsumed', description=None, unit_type=None, unit_symbol=None, history=True, visibility='private', license=None, status_notify=False, status_timeout=60), Feed(name='cix100-targetconsumption', key='cix100-targetconsumption', description=None, unit_type=None, unit_symbol=None, history=True, visibility='private', license=None, status_notify=False, status_timeout=60), Feed(name='cix100-weight', key='cix100-weight', description=None, unit_type=None, unit_symbol=None, history=True, visibility='private', license=None, status_notify=False, status_timeout=60), Feed(name='cix100-performance', key='cix100-performance', description=None, unit_type=None, unit_symbol=None, history=True, visibility='private', license=None, status_notify=False, status_timeout=60), Feed(name='cix100-notes', key='cix100-notes', description=None, unit_type=None, unit_symbol=None, history=True, visibility='private', license=None, status_notify=False, status_timeout=60), Feed(name='an1-notes', key='an1-notes', description=None, unit_type=None, unit_symbol=None, history=True, visibility='private', license=None, status_notify=False, status_timeout=60), Feed(name='cisom7-rig', key='cisom7-rig', description=None, unit_type=None, unit_symbol=None, history=True, visibility='private', license=None, status_notify=False, status_timeout=60), Feed(name='cisom7-task', key='cisom7-task', description=None, unit_type=None, unit_symbol=None, history=True, visibility='private', license=None, status_notify=False, status_timeout=60), Feed(name='cisom7-waterconsumed', key='cisom7-waterconsumed', description=None, unit_type=None, unit_symbol=None, history=True, visibility='private', license=None, status_notify=False, status_timeout=60), Feed(name='cisom7-targetconsumption', key='cisom7-targetconsumption', description=None, unit_type=None, unit_symbol=None, history=True, visibility='private', license=None, status_notify=False, status_timeout=60), Feed(name='cisom7-weight', key='cisom7-weight', description=None, unit_type=None, unit_symbol=None, history=True, visibility='private', license=None, status_notify=False, status_timeout=60), Feed(name='cisom7-performance', key='cisom7-performance', description=None, unit_type=None, unit_symbol=None, history=True, visibility='private', license=None, status_notify=False, status_timeout=60), Feed(name='cisom7-notes', key='cisom7-notes', description=None, unit_type=None, unit_symbol=None, history=True, visibility='private', license=None, status_notify=False, status_timeout=60), Feed(name='sm1750-rig', key='sm1750-rig', description=None, unit_type=None, unit_symbol=None, history=True, visibility='private', license=None, status_notify=False, status_timeout=60), Feed(name='sm1750-task', key='sm1750-task', description=None, unit_type=None, unit_symbol=None, history=True, visibility='private', license=None, status_notify=False, status_timeout=60), Feed(name='sm1750-waterconsumed', key='sm1750-waterconsumed', description=None, unit_type=None, unit_symbol=None, history=True, visibility='private', license=None, status_notify=False, status_timeout=60), Feed(name='sm1750-targetconsumption', key='sm1750-targetconsumption', description=None, unit_type=None, unit_symbol=None, history=True, visibility='private', license=None, status_notify=False, status_timeout=60), Feed(name='sm1750-weight', key='sm1750-weight', description=None, unit_type=None, unit_symbol=None, history=True, visibility='private', license=None, status_notify=False, status_timeout=60), Feed(name='sm1750-performance', key='sm1750-performance', description=None, unit_type=None, unit_symbol=None, history=True, visibility='private', license=None, status_notify=False, status_timeout=60), Feed(name='sm1750-notes', key='sm1750-notes', description=None, unit_type=None, unit_symbol=None, history=True, visibility='private', license=None, status_notify=False, status_timeout=60), Feed(name='sm1778-rig', key='sm1778-rig', description=None, unit_type=None, unit_symbol=None, history=True, visibility='private', license=None, status_notify=False, status_timeout=60), Feed(name='sm1778-task', key='sm1778-task', description=None, unit_type=None, unit_symbol=None, history=True, visibility='private', license=None, status_notify=False, status_timeout=60), Feed(name='sm1778-waterconsumed', key='sm1778-waterconsumed', description=None, unit_type=None, unit_symbol=None, history=True, visibility='private', license=None, status_notify=False, status_timeout=60), Feed(name='sm1778-targetconsumption', key='sm1778-targetconsumption', description=None, unit_type=None, unit_symbol=None, history=True, visibility='private', license=None, status_notify=False, status_timeout=60), Feed(name='sm1778-weight', key='sm1778-weight', description=None, unit_type=None, unit_symbol=None, history=True, visibility='private', license=None, status_notify=False, status_timeout=60), Feed(name='sm1778-performance', key='sm1778-performance', description=None, unit_type=None, unit_symbol=None, history=True, visibility='private', license=None, status_notify=False, status_timeout=60), Feed(name='sm1778-notes', key='sm1778-notes', description=None, unit_type=None, unit_symbol=None, history=True, visibility='private', license=None, status_notify=False, status_timeout=60), Feed(name='sm1781-rig', key='sm1781-rig', description=None, unit_type=None, unit_symbol=None, history=True, visibility='private', license=None, status_notify=False, status_timeout=60), Feed(name='sm1781-task', key='sm1781-task', description=None, unit_type=None, unit_symbol=None, history=True, visibility='private', license=None, status_notify=False, status_timeout=60), Feed(name='sm1781-waterconsumed', key='sm1781-waterconsumed', description=None, unit_type=None, unit_symbol=None, history=True, visibility='private', license=None, status_notify=False, status_timeout=60), Feed(name='sm1781-targetconsumption', key='sm1781-targetconsumption', description=None, unit_type=None, unit_symbol=None, history=True, visibility='private', license=None, status_notify=False, status_timeout=60), Feed(name='sm1781-weight', key='sm1781-weight', description=None, unit_type=None, unit_symbol=None, history=True, visibility='private', license=None, status_notify=False, status_timeout=60), Feed(name='sm1781-performance', key='sm1781-performance', description=None, unit_type=None, unit_symbol=None, history=True, visibility='private', license=None, status_notify=False, status_timeout=60), Feed(name='sm1781-notes', key='sm1781-notes', description=None, unit_type=None, unit_symbol=None, history=True, visibility='private', license=None, status_notify=False, status_timeout=60), Feed(name='sm1754-rig', key='sm1754-rig', description=None, unit_type=None, unit_symbol=None, history=True, visibility='private', license=None, status_notify=False, status_timeout=60), Feed(name='sm1754-task', key='sm1754-task', description=None, unit_type=None, unit_symbol=None, history=True, visibility='private', license=None, status_notify=False, status_timeout=60), Feed(name='sm1754-waterconsumed', key='sm1754-waterconsumed', description=None, unit_type=None, unit_symbol=None, history=True, visibility='private', license=None, status_notify=False, status_timeout=60), Feed(name='sm1754-targetconsumption', key='sm1754-targetconsumption', description=None, unit_type=None, unit_symbol=None, history=True, visibility='private', license=None, status_notify=False, status_timeout=60), Feed(name='sm1754-weight', key='sm1754-weight', description=None, unit_type=None, unit_symbol=None, history=True, visibility='private', license=None, status_notify=False, status_timeout=60), Feed(name='sm1754-performance', key='sm1754-performance', description=None, unit_type=None, unit_symbol=None, history=True, visibility='private', license=None, status_notify=False, status_timeout=60), Feed(name='sm1754-notes', key='sm1754-notes', description=None, unit_type=None, unit_symbol=None, history=True, visibility='private', license=None, status_notify=False, status_timeout=60), Feed(name='cisom7-topvol', key='cisom7-topvol', description=None, unit_type=None, unit_symbol=None, history=True, visibility='private', license=None, status_notify=False, status_timeout=60), Feed(name='aa-rig', key='aa-rig', description=None, unit_type=None, unit_symbol=None, history=True, visibility='private', license=None, status_notify=False, status_timeout=60), Feed(name='aa-waterconsumed', key='aa-waterconsumed', description=None, unit_type=None, unit_symbol=None, history=True, visibility='private', license=None, status_notify=False, status_timeout=60), Feed(name='aa-topvol', key='aa-topvol', description=None, unit_type=None, unit_symbol=None, history=True, visibility='private', license=None, status_notify=False, status_timeout=60), Feed(name='aa-weight', key='aa-weight', description=None, unit_type=None, unit_symbol=None, history=True, visibility='private', license=None, status_notify=False, status_timeout=60), Feed(name='rig-cadbook', key='rig-cadbook', description=None, unit_type=None, unit_symbol=None, history=True, visibility='private', license=None, status_notify=False, status_timeout=60), Feed(name='asciiFeed', key='asciifeed', description=None, unit_type=None, unit_symbol=None, history=True, visibility='private', license=None, status_notify=False, status_timeout=60), Feed(name='cad-rig', key='cad-rig', description=None, unit_type=None, unit_symbol=None, history=True, visibility='private', license=None, status_notify=False, status_timeout=60), Feed(name='cad-task', key='cad-task', description=None, unit_type=None, unit_symbol=None, history=True, visibility='private', license=None, status_notify=False, status_timeout=60), Feed(name='cad-waterconsumed', key='cad-waterconsumed', description=None, unit_type=None, unit_symbol=None, history=True, visibility='private', license=None, status_notify=False, status_timeout=60), Feed(name='cad-waterneeded', key='cad-waterneeded', description=None, unit_type=None, unit_symbol=None, history=True, visibility='private', license=None, status_notify=False, status_timeout=60), Feed(name='cad-weight', key='cad-weight', description=None, unit_type=None, unit_symbol=None, history=True, visibility='private', license=None, status_notify=False, status_timeout=60), Feed(name='cad-dprime', key='cad-dprime', description=None, unit_type=None, unit_symbol=None, history=True, visibility='private', license=None, status_notify=False, status_timeout=60), Feed(name='cad-criterion', key='cad-criterion', description=None, unit_type=None, unit_symbol=None, history=True, visibility='private', license=None, status_notify=False, status_timeout=60), Feed(name='cad-trials', key='cad-trials', description=None, unit_type=None, unit_symbol=None, history=True, visibility='private', license=None, status_notify=False, status_timeout=60), Feed(name='cad-experimenter', key='cad-experimenter', description=None, unit_type=None, unit_symbol=None, history=True, visibility='private', license=None, status_notify=False, status_timeout=60), Feed(name='cad-notes', key='cad-notes', description=None, unit_type=None, unit_symbol=None, history=True, visibility='private', license=None, status_notify=False, status_timeout=60), Feed(name='cisom8-rig', key='cisom8-rig', description=None, unit_type=None, unit_symbol=None, history=True, visibility='private', license=None, status_notify=False, status_timeout=60), Feed(name='cisom8-task', key='cisom8-task', description=None, unit_type=None, unit_symbol=None, history=True, visibility='private', license=None, status_notify=False, status_timeout=60), Feed(name='cisom8-waterconsumed', key='cisom8-waterconsumed', description=None, unit_type=None, unit_symbol=None, history=True, visibility='private', license=None, status_notify=False, status_timeout=60), Feed(name='cisom8-waterneeded', key='cisom8-waterneeded', description=None, unit_type=None, unit_symbol=None, history=True, visibility='private', license=None, status_notify=False, status_timeout=60), Feed(name='cisom8-weight', key='cisom8-weight', description=None, unit_type=None, unit_symbol=None, history=True, visibility='private', license=None, status_notify=False, status_timeout=60), Feed(name='cisom8-dprime', key='cisom8-dprime', description=None, unit_type=None, unit_symbol=None, history=True, visibility='private', license=None, status_notify=False, status_timeout=60), Feed(name='cisom8-criterion', key='cisom8-criterion', description=None, unit_type=None, unit_symbol=None, history=True, visibility='private', license=None, status_notify=False, status_timeout=60), Feed(name='cisom8-trials', key='cisom8-trials', description=None, unit_type=None, unit_symbol=None, history=True, visibility='private', license=None, status_notify=False, status_timeout=60), Feed(name='cisom8-experimenter', key='cisom8-experimenter', description=None, unit_type=None, unit_symbol=None, history=True, visibility='private', license=None, status_notify=False, status_timeout=60), Feed(name='cisom8-notes', key='cisom8-notes', description=None, unit_type=None, unit_symbol=None, history=True, visibility='private', license=None, status_notify=False, status_timeout=60), Feed(name='rig-userbru-fe910au', key='rig-userbru-fe910au', description=None, unit_type=None, unit_symbol=None, history=True, visibility='private', license=None, status_notify=False, status_timeout=60), Feed(name='ghcq-rig', key='ghcq-rig', description=None, unit_type=None, unit_symbol=None, history=True, visibility='private', license=None, status_notify=False, status_timeout=60), Feed(name='ghcq-task', key='ghcq-task', description=None, unit_type=None, unit_symbol=None, history=True, visibility='private', license=None, status_notify=False, status_timeout=60), Feed(name='ghcq-waterconsumed', key='ghcq-waterconsumed', description=None, unit_type=None, unit_symbol=None, history=True, visibility='private', license=None, status_notify=False, status_timeout=60), Feed(name='ghcq-waterneeded', key='ghcq-waterneeded', description=None, unit_type=None, unit_symbol=None, history=True, visibility='private', license=None, status_notify=False, status_timeout=60), Feed(name='ghcq-weight', key='ghcq-weight', description=None, unit_type=None, unit_symbol=None, history=True, visibility='private', license=None, status_notify=False, status_timeout=60), Feed(name='ghcq-dprime', key='ghcq-dprime', description=None, unit_type=None, unit_symbol=None, history=True, visibility='private', license=None, status_notify=False, status_timeout=60), Feed(name='ghcq-criterion', key='ghcq-criterion', description=None, unit_type=None, unit_symbol=None, history=True, visibility='private', license=None, status_notify=False, status_timeout=60), Feed(name='ghcq-trials', key='ghcq-trials', description=None, unit_type=None, unit_symbol=None, history=True, visibility='private', license=None, status_notify=False, status_timeout=60), Feed(name='ghcq-experimenter', key='ghcq-experimenter', description=None, unit_type=None, unit_symbol=None, history=True, visibility='private', license=None, status_notify=False, status_timeout=60), Feed(name='ghcq-notes', key='ghcq-notes', description=None, unit_type=None, unit_symbol=None, history=True, visibility='private', license=None, status_notify=False, status_timeout=60), Feed(name='rig-dibookpro', key='rig-dibookpro', description=None, unit_type=None, unit_symbol=None, history=True, visibility='private', license=None, status_notify=False, status_timeout=60)]\n"
     ]
    }
   ],
   "source": [
    "print(allFeeds)"
   ]
  },
  {
   "cell_type": "code",
   "execution_count": 11,
   "metadata": {},
   "outputs": [
    {
     "name": "stdout",
     "output_type": "stream",
     "text": [
      "['newFeed', 'rig-ubuntu', 'ci01-rig', 'ci01-task', 'ci01-waterconsumed', 'ci01-targetconsumption', 'ci01-weight', 'ci01-performance', 'strongsad-rig', 'strongsad-task', 'strongsad-waterconsumed', 'strongsad-targetconsumption', 'strongsad-weight', 'strongsad-performance', 'an1-rig', 'an1-task', 'an1-waterconsumed', 'an1-targetconsumption', 'an1-weight', 'an1-performance', 'rig-cstwophotona', 'testtext', 'cix19-rig', 'cix19-task', 'cix19-waterconsumed', 'cix19-targetconsumption', 'cix19-weight', 'cix19-performance', 'cix19-notes', 'cix100-rig', 'cix100-task', 'cix100-waterconsumed', 'cix100-targetconsumption', 'cix100-weight', 'cix100-performance', 'cix100-notes', 'an1-notes', 'cisom7-rig', 'cisom7-task', 'cisom7-waterconsumed', 'cisom7-targetconsumption', 'cisom7-weight', 'cisom7-performance', 'cisom7-notes', 'sm1750-rig', 'sm1750-task', 'sm1750-waterconsumed', 'sm1750-targetconsumption', 'sm1750-weight', 'sm1750-performance', 'sm1750-notes', 'sm1778-rig', 'sm1778-task', 'sm1778-waterconsumed', 'sm1778-targetconsumption', 'sm1778-weight', 'sm1778-performance', 'sm1778-notes', 'sm1781-rig', 'sm1781-task', 'sm1781-waterconsumed', 'sm1781-targetconsumption', 'sm1781-weight', 'sm1781-performance', 'sm1781-notes', 'sm1754-rig', 'sm1754-task', 'sm1754-waterconsumed', 'sm1754-targetconsumption', 'sm1754-weight', 'sm1754-performance', 'sm1754-notes', 'cisom7-topvol', 'aa-rig', 'aa-waterconsumed', 'aa-topvol', 'aa-weight', 'rig-cadbook', 'asciiFeed', 'cad-rig', 'cad-task', 'cad-waterconsumed', 'cad-waterneeded', 'cad-weight', 'cad-dprime', 'cad-criterion', 'cad-trials', 'cad-experimenter', 'cad-notes', 'cisom8-rig', 'cisom8-task', 'cisom8-waterconsumed', 'cisom8-waterneeded', 'cisom8-weight', 'cisom8-dprime', 'cisom8-criterion', 'cisom8-trials', 'cisom8-experimenter', 'cisom8-notes', 'rig-userbru-fe910au', 'ghcq-rig', 'ghcq-task', 'ghcq-waterconsumed', 'ghcq-waterneeded', 'ghcq-weight', 'ghcq-dprime', 'ghcq-criterion', 'ghcq-trials', 'ghcq-experimenter', 'ghcq-notes', 'rig-dibookpro']\n"
     ]
    }
   ],
   "source": [
    "feedList = []\n",
    "for things in allFeeds:\n",
    "    feedList.append(things.name)\n",
    "print(feedList)"
   ]
  },
  {
   "cell_type": "code",
   "execution_count": 12,
   "metadata": {},
   "outputs": [
    {
     "name": "stdout",
     "output_type": "stream",
     "text": [
      "Feed(name='rig-ubuntu', key='rig-ubuntu', description=None, unit_type=None, unit_symbol=None, history=True, visibility='private', license=None, status_notify=False, status_timeout=60)\n"
     ]
    }
   ],
   "source": [
    "# let's see what a feed's metadata contains.\n",
    "print(allFeeds[1])"
   ]
  },
  {
   "cell_type": "markdown",
   "metadata": {},
   "source": [
    "#### The name is needed to create the feed, but the key is how it is addressed later. By default, the API will respect formating of text, but not the key. So, keep this in mind. "
   ]
  },
  {
   "cell_type": "code",
   "execution_count": 13,
   "metadata": {},
   "outputs": [
    {
     "name": "stdout",
     "output_type": "stream",
     "text": [
      "Feed(name='cad-rig', key='cad-rig', description=None, unit_type=None, unit_symbol=None, history=True, visibility='private', license=None, status_notify=False, status_timeout=60)\n"
     ]
    }
   ],
   "source": [
    "thisFeed = aio.feeds('cad-rig')\n",
    "print(thisFeed)"
   ]
  },
  {
   "cell_type": "code",
   "execution_count": 14,
   "metadata": {},
   "outputs": [
    {
     "ename": "RequestError",
     "evalue": "Adafruit IO request failed: 400 Bad Request - ['Name must be unique within the selected group', 'Key must be unique within the selected group', 'Group feeds is invalid']",
     "output_type": "error",
     "traceback": [
      "\u001b[0;31m---------------------------------------------------------------------------\u001b[0m",
      "\u001b[0;31mRequestError\u001b[0m                              Traceback (most recent call last)",
      "\u001b[0;32m<ipython-input-14-edc9afc6697f>\u001b[0m in \u001b[0;36m<module>\u001b[0;34m\u001b[0m\n\u001b[1;32m      2\u001b[0m \u001b[0mfeedName\u001b[0m \u001b[0;34m=\u001b[0m \u001b[0;34m\"asciiFeed\"\u001b[0m\u001b[0;34m\u001b[0m\u001b[0m\n\u001b[1;32m      3\u001b[0m \u001b[0mfeed\u001b[0m \u001b[0;34m=\u001b[0m \u001b[0mFeed\u001b[0m\u001b[0;34m(\u001b[0m\u001b[0mfeedName\u001b[0m\u001b[0;34m)\u001b[0m\u001b[0;34m\u001b[0m\u001b[0m\n\u001b[0;32m----> 4\u001b[0;31m \u001b[0mcreateResult\u001b[0m \u001b[0;34m=\u001b[0m \u001b[0maio\u001b[0m\u001b[0;34m.\u001b[0m\u001b[0mcreate_feed\u001b[0m\u001b[0;34m(\u001b[0m\u001b[0mfeed\u001b[0m\u001b[0;34m)\u001b[0m\u001b[0;34m\u001b[0m\u001b[0m\n\u001b[0m",
      "\u001b[0;32m/anaconda3/lib/python3.6/site-packages/Adafruit_IO/client.py\u001b[0m in \u001b[0;36mcreate_feed\u001b[0;34m(self, feed)\u001b[0m\n\u001b[1;32m    246\u001b[0m         \"\"\"\n\u001b[1;32m    247\u001b[0m         \u001b[0mpath\u001b[0m \u001b[0;34m=\u001b[0m \u001b[0;34m\"feeds/\"\u001b[0m\u001b[0;34m\u001b[0m\u001b[0m\n\u001b[0;32m--> 248\u001b[0;31m         \u001b[0;32mreturn\u001b[0m \u001b[0mFeed\u001b[0m\u001b[0;34m.\u001b[0m\u001b[0mfrom_dict\u001b[0m\u001b[0;34m(\u001b[0m\u001b[0mself\u001b[0m\u001b[0;34m.\u001b[0m\u001b[0m_post\u001b[0m\u001b[0;34m(\u001b[0m\u001b[0mpath\u001b[0m\u001b[0;34m,\u001b[0m \u001b[0;34m{\u001b[0m\u001b[0;34m\"feed\"\u001b[0m\u001b[0;34m:\u001b[0m \u001b[0mfeed\u001b[0m\u001b[0;34m.\u001b[0m\u001b[0m_asdict\u001b[0m\u001b[0;34m(\u001b[0m\u001b[0;34m)\u001b[0m\u001b[0;34m}\u001b[0m\u001b[0;34m)\u001b[0m\u001b[0;34m)\u001b[0m\u001b[0;34m\u001b[0m\u001b[0m\n\u001b[0m\u001b[1;32m    249\u001b[0m \u001b[0;34m\u001b[0m\u001b[0m\n\u001b[1;32m    250\u001b[0m     \u001b[0;32mdef\u001b[0m \u001b[0mdelete_feed\u001b[0m\u001b[0;34m(\u001b[0m\u001b[0mself\u001b[0m\u001b[0;34m,\u001b[0m \u001b[0mfeed\u001b[0m\u001b[0;34m)\u001b[0m\u001b[0;34m:\u001b[0m\u001b[0;34m\u001b[0m\u001b[0m\n",
      "\u001b[0;32m/anaconda3/lib/python3.6/site-packages/Adafruit_IO/client.py\u001b[0m in \u001b[0;36m_post\u001b[0;34m(self, path, data)\u001b[0m\n\u001b[1;32m    101\u001b[0m                                  \u001b[0mproxies\u001b[0m\u001b[0;34m=\u001b[0m\u001b[0mself\u001b[0m\u001b[0;34m.\u001b[0m\u001b[0mproxies\u001b[0m\u001b[0;34m,\u001b[0m\u001b[0;34m\u001b[0m\u001b[0m\n\u001b[1;32m    102\u001b[0m                                  data=json.dumps(data))\n\u001b[0;32m--> 103\u001b[0;31m         \u001b[0mself\u001b[0m\u001b[0;34m.\u001b[0m\u001b[0m_handle_error\u001b[0m\u001b[0;34m(\u001b[0m\u001b[0mresponse\u001b[0m\u001b[0;34m)\u001b[0m\u001b[0;34m\u001b[0m\u001b[0m\n\u001b[0m\u001b[1;32m    104\u001b[0m         \u001b[0;32mreturn\u001b[0m \u001b[0mresponse\u001b[0m\u001b[0;34m.\u001b[0m\u001b[0mjson\u001b[0m\u001b[0;34m(\u001b[0m\u001b[0;34m)\u001b[0m\u001b[0;34m\u001b[0m\u001b[0m\n\u001b[1;32m    105\u001b[0m \u001b[0;34m\u001b[0m\u001b[0m\n",
      "\u001b[0;32m/anaconda3/lib/python3.6/site-packages/Adafruit_IO/client.py\u001b[0m in \u001b[0;36m_handle_error\u001b[0;34m(self, response)\u001b[0m\n\u001b[1;32m     74\u001b[0m         \u001b[0;31m# Resource on AdafruitIO not Found Error\u001b[0m\u001b[0;34m\u001b[0m\u001b[0;34m\u001b[0m\u001b[0m\n\u001b[1;32m     75\u001b[0m         \u001b[0;32melif\u001b[0m \u001b[0mresponse\u001b[0m\u001b[0;34m.\u001b[0m\u001b[0mstatus_code\u001b[0m \u001b[0;34m==\u001b[0m \u001b[0;36m400\u001b[0m\u001b[0;34m:\u001b[0m\u001b[0;34m\u001b[0m\u001b[0m\n\u001b[0;32m---> 76\u001b[0;31m             \u001b[0;32mraise\u001b[0m \u001b[0mRequestError\u001b[0m\u001b[0;34m(\u001b[0m\u001b[0mresponse\u001b[0m\u001b[0;34m)\u001b[0m\u001b[0;34m\u001b[0m\u001b[0m\n\u001b[0m\u001b[1;32m     77\u001b[0m         \u001b[0;31m# Handle all other errors (400 & 500 level HTTP responses)\u001b[0m\u001b[0;34m\u001b[0m\u001b[0;34m\u001b[0m\u001b[0m\n\u001b[1;32m     78\u001b[0m         \u001b[0;32melif\u001b[0m \u001b[0mresponse\u001b[0m\u001b[0;34m.\u001b[0m\u001b[0mstatus_code\u001b[0m \u001b[0;34m>=\u001b[0m \u001b[0;36m400\u001b[0m\u001b[0;34m:\u001b[0m\u001b[0;34m\u001b[0m\u001b[0m\n",
      "\u001b[0;31mRequestError\u001b[0m: Adafruit IO request failed: 400 Bad Request - ['Name must be unique within the selected group', 'Key must be unique within the selected group', 'Group feeds is invalid']"
     ]
    }
   ],
   "source": [
    "# lets create a feed with an uppercase char, this is ok\n",
    "feedName = \"asciiFeed\"\n",
    "feed = Feed(feedName)\n",
    "createResult = aio.create_feed(feed)"
   ]
  },
  {
   "cell_type": "code",
   "execution_count": 15,
   "metadata": {},
   "outputs": [
    {
     "ename": "NameError",
     "evalue": "name 'createResult' is not defined",
     "output_type": "error",
     "traceback": [
      "\u001b[0;31m---------------------------------------------------------------------------\u001b[0m",
      "\u001b[0;31mNameError\u001b[0m                                 Traceback (most recent call last)",
      "\u001b[0;32m<ipython-input-15-4126fd338918>\u001b[0m in \u001b[0;36m<module>\u001b[0;34m\u001b[0m\n\u001b[0;32m----> 1\u001b[0;31m \u001b[0mprint\u001b[0m\u001b[0;34m(\u001b[0m\u001b[0mcreateResult\u001b[0m\u001b[0;34m)\u001b[0m\u001b[0;34m\u001b[0m\u001b[0m\n\u001b[0m",
      "\u001b[0;31mNameError\u001b[0m: name 'createResult' is not defined"
     ]
    }
   ],
   "source": [
    "print(createResult)"
   ]
  },
  {
   "cell_type": "code",
   "execution_count": 16,
   "metadata": {},
   "outputs": [
    {
     "name": "stdout",
     "output_type": "stream",
     "text": [
      "Feed(name='asciiFeed', key='asciifeed', description=None, unit_type=None, unit_symbol=None, history=True, visibility='private', license=None, status_notify=False, status_timeout=60)\n"
     ]
    }
   ],
   "source": [
    "# but to access it, we have to ask for lowercase only, because note above the key is lowercase\n",
    "thisFeed = aio.feeds(feedName.lower())\n",
    "print(thisFeed)"
   ]
  },
  {
   "cell_type": "code",
   "execution_count": 14,
   "metadata": {},
   "outputs": [],
   "source": [
    "# now let's delete the feed\n",
    "feed = aio.delete_feed(feedName.lower())"
   ]
  },
  {
   "cell_type": "code",
   "execution_count": 18,
   "metadata": {},
   "outputs": [],
   "source": [
    "# now let's get a feed's data\n",
    "allData = aio.data('cad-waterconsumed')"
   ]
  },
  {
   "cell_type": "code",
   "execution_count": 19,
   "metadata": {},
   "outputs": [
    {
     "data": {
      "text/plain": [
       "Data(created_epoch=1544624540, created_at='2018-12-12T14:22:20Z', updated_at=None, value='1.0069', completed_at=None, feed_id=934919, expiration='2019-02-10T14:22:20Z', position=None, id='0E1HDZGV75HFHNY7TEE548HZSV', lat=None, lon=None, ele=None)"
      ]
     },
     "execution_count": 19,
     "metadata": {},
     "output_type": "execute_result"
    }
   ],
   "source": [
    "allData[0]"
   ]
  },
  {
   "cell_type": "code",
   "execution_count": 20,
   "metadata": {},
   "outputs": [],
   "source": [
    "# The list of subject feeds are:\n",
    "# -rig,-task,-waterconsumed,-targetconsumption,-weight,-performance\n",
    "def makeSubjectFeeds(subjectID,mqttClient):\n",
    "    subFeedLabels = ['rig','task','waterconsumed','targetconsumption','weight','performance']\n",
    "    for x in subFeedLabels:\n",
    "        feedStr = subjectID.lower() + '-' + x\n",
    "        feed = Feed(name = feedStr)\n",
    "        try:\n",
    "            mqttClient.create_feed(feed)\n",
    "            print(\"did make feed:{}\".format(feedStr))\n",
    "        except:\n",
    "            print(\"did not make feed: {}\".format(feedStr))"
   ]
  },
  {
   "cell_type": "code",
   "execution_count": 21,
   "metadata": {},
   "outputs": [
    {
     "name": "stdout",
     "output_type": "stream",
     "text": [
      "did not make feed: strongsad-rig\n",
      "did not make feed: strongsad-task\n",
      "did not make feed: strongsad-waterconsumed\n",
      "did not make feed: strongsad-targetconsumption\n",
      "did not make feed: strongsad-weight\n",
      "did not make feed: strongsad-performance\n"
     ]
    }
   ],
   "source": [
    "makeSubjectFeeds('strongsad',aio)"
   ]
  },
  {
   "cell_type": "code",
   "execution_count": 22,
   "metadata": {},
   "outputs": [],
   "source": [
    "# Now let's see how we would make a pandas dataframe from this. \n",
    "curFeedName = 'cad-waterconsumed'\n",
    "tCreated_ats=[]\n",
    "tDates=[]\n",
    "tTimes=[]\n",
    "tIDs = []\n",
    "tValues=[]\n",
    "tFeedNames = []\n",
    "for x in allData:\n",
    "    tCreated_ats.append(x.created_at)\n",
    "    tS=x.created_at.split('T')\n",
    "    tDates.append(tS[0])\n",
    "    tTimes.append(tS[1])\n",
    "    tIDs.append(x.id)\n",
    "    tValues.append(float(x.value))\n",
    "    tFeedNames.append(curFeedName)\n",
    "\n",
    "tempArray = [tFeedNames,tCreated_ats,tDates,tTimes,tIDs,tValues]\n",
    "varIndex = ['feed_name','created_at','date','time','id','value']\n",
    "tempArray=list(list(zip(*tempArray)))\n",
    "newDF = pd.DataFrame(tempArray,columns = varIndex)\n",
    "newDF.to_csv('/Users/cad/testFEEDBU.csv')"
   ]
  },
  {
   "cell_type": "code",
   "execution_count": 23,
   "metadata": {},
   "outputs": [
    {
     "name": "stdout",
     "output_type": "stream",
     "text": [
      "['ci01-weight', 'strongsad-weight', 'an1-weight', 'cix19-weight', 'cix100-weight', 'cisom7-weight', 'aa-weight', 'cad-weight', 'cisom8-weight', 'ghcq-weight']\n"
     ]
    }
   ],
   "source": [
    "# this is how we look at feeds containing something (simple list enumeration)\n",
    "weightFeeds = []\n",
    "for idx, val in enumerate(feedList):\n",
    "    if 'weight' in val and 'sm' not in val:\n",
    "        weightFeeds.append(feedList[idx])\n",
    "print(weightFeeds)"
   ]
  },
  {
   "cell_type": "code",
   "execution_count": 24,
   "metadata": {},
   "outputs": [
    {
     "name": "stdout",
     "output_type": "stream",
     "text": [
      "['ci01', 'strongsad', 'an1', 'cix19', 'cix100', 'cisom7', 'aa', 'cad', 'cisom8', 'ghcq']\n"
     ]
    }
   ],
   "source": [
    "# now we can infer the active animals\n",
    "activeAnimals = []\n",
    "for x in weightFeeds:\n",
    "    tA=x.split('-')\n",
    "    activeAnimals.append(tA[0])\n",
    "    \n",
    "print(activeAnimals)\n",
    "    "
   ]
  },
  {
   "cell_type": "code",
   "execution_count": 37,
   "metadata": {},
   "outputs": [
    {
     "name": "stdout",
     "output_type": "stream",
     "text": [
      "active animals: ['ci01', 'strongsad', 'an1', 'cix19', 'cix100', 'cisom7', 'aa', 'cad', 'cisom8', 'ghcq']\n",
      "water needed today: [2, 2, 2, 2, 2, 2, 2, 5.0, 1.5, 2]\n",
      "water consumed today: [0, 0, 0, 0, 0, 0, 0, 0, 0, 0]\n",
      "time (hrs) since last water logged: [0, 0, 0, 0, 0, 0, 22, 0.002, 0.105, 0]\n"
     ]
    }
   ],
   "source": [
    "# \t\treturn waterConsumed,waterNeeded,hourDif,dStamp\n",
    "wC=[]\n",
    "wN=[]\n",
    "wT=[]\n",
    "tSub = []\n",
    "for subj in activeAnimals:\n",
    "    [tWc,tWn,hS,_]=getDailyConsumption(aio,subj,12)\n",
    "    tSub.append(subj)\n",
    "    wC.append(tWc)\n",
    "    wN.append(tWn)\n",
    "    wT.append(hS)\n",
    "print(\"active animals: {}\".format(tSub))\n",
    "print(\"water needed today: {}\".format(wN))\n",
    "print(\"water consumed today: {}\".format(wC))\n",
    "print(\"time (hrs) since last water logged: {}\".format(wT))"
   ]
  },
  {
   "cell_type": "code",
   "execution_count": 31,
   "metadata": {},
   "outputs": [],
   "source": [
    "# change target for a subject\n",
    "twSubject = 'ciSom8'\n",
    "sendData(twSubject.lower() + '-waterneeded',1.5,aio)"
   ]
  },
  {
   "cell_type": "code",
   "execution_count": 36,
   "metadata": {},
   "outputs": [],
   "source": [
    "# change target for a subject\n",
    "twSubject = 'cad'\n",
    "sendData(twSubject.lower() + '-waterneeded',5,aio)"
   ]
  },
  {
   "cell_type": "code",
   "execution_count": 38,
   "metadata": {},
   "outputs": [],
   "source": [
    "# log some water for a subject\n",
    "twSubject = 'cad'\n",
    "waterGiven = 1\n",
    "\n",
    "tWaterConsumed = wC[tSub.index(twSubject)]+waterGiven\n",
    "tWaterNeeded = wN[tSub.index(twSubject)]-waterGiven\n",
    "\n",
    "sendData(twSubject.lower() + '-waterconsumed',tWaterConsumed,aio)\n",
    "sendData(twSubject.lower() + '-waterneeded',tWaterNeeded,aio)"
   ]
  },
  {
   "cell_type": "code",
   "execution_count": 65,
   "metadata": {},
   "outputs": [
    {
     "data": {
      "text/plain": [
       "7"
      ]
     },
     "execution_count": 65,
     "metadata": {},
     "output_type": "execute_result"
    }
   ],
   "source": [
    "tSub.index(twSubject)"
   ]
  }
 ],
 "metadata": {
  "kernelspec": {
   "display_name": "Python 3",
   "language": "python",
   "name": "python3"
  },
  "language_info": {
   "codemirror_mode": {
    "name": "ipython",
    "version": 3
   },
   "file_extension": ".py",
   "mimetype": "text/x-python",
   "name": "python",
   "nbconvert_exporter": "python",
   "pygments_lexer": "ipython3",
   "version": "3.6.6"
  }
 },
 "nbformat": 4,
 "nbformat_minor": 2
}

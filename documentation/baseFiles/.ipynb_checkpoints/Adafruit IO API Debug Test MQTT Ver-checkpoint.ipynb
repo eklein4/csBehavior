{
 "cells": [
  {
   "cell_type": "markdown",
   "metadata": {},
   "source": [
    "# Testing Adafruit IO API\n",
    "#### https://pypi.org/project/paho-mqtt/"
   ]
  },
  {
   "cell_type": "code",
   "execution_count": 1,
   "metadata": {},
   "outputs": [],
   "source": [
    "import datetime\n",
    "from Adafruit_IO import *"
   ]
  },
  {
   "cell_type": "code",
   "execution_count": 2,
   "metadata": {},
   "outputs": [],
   "source": [
    "dStamp=datetime.datetime.now().strftime(\"%m_%d_%Y\")\n",
    "hashPath = '/Users/cad/simpHashes/csIO.txt'"
   ]
  },
  {
   "cell_type": "code",
   "execution_count": 3,
   "metadata": {},
   "outputs": [],
   "source": [
    "def connect_REST(hashPath):\n",
    "    simpHash=open(hashPath)\n",
    "    a=list(simpHash)\n",
    "    userName = a[0].strip()\n",
    "    apiKey = a[1]\n",
    "    restClient = Client(userName,apiKey)\n",
    "    return restClient\n",
    "    \n",
    "def connect_MQTT(hashPath):\n",
    "    simpHash=open(hashPath)\n",
    "    a=list(simpHash)\n",
    "    userName = a[0].strip()\n",
    "    apiKey = a[1]\n",
    "    mqttClient = MQTTClient(userName,apiKey)\n",
    "    return mqttClient"
   ]
  },
  {
   "cell_type": "code",
   "execution_count": 9,
   "metadata": {},
   "outputs": [],
   "source": [
    "aio=connect_REST(hashPath)"
   ]
  },
  {
   "cell_type": "code",
   "execution_count": 7,
   "metadata": {},
   "outputs": [
    {
     "data": {
      "text/plain": [
       "<bound method MQTTClient.publish of <Adafruit_IO.mqtt_client.MQTTClient object at 0x105c17208>>"
      ]
     },
     "execution_count": 7,
     "metadata": {},
     "output_type": "execute_result"
    }
   ],
   "source": [
    "aio.publish"
   ]
  },
  {
   "cell_type": "code",
   "execution_count": 10,
   "metadata": {},
   "outputs": [],
   "source": [
    "# check all the feeds\n",
    "# This will make a list of all feeds.\n",
    "allFeeds = aio.feeds()"
   ]
  },
  {
   "cell_type": "code",
   "execution_count": 11,
   "metadata": {},
   "outputs": [
    {
     "name": "stdout",
     "output_type": "stream",
     "text": [
      "[Feed(name='newFeed', key='newfeed', description=None, unit_type=None, unit_symbol=None, history=True, visibility='private', license=None, status_notify=False, status_timeout=60), Feed(name='rig-ubuntu', key='rig-ubuntu', description=None, unit_type=None, unit_symbol=None, history=True, visibility='private', license=None, status_notify=False, status_timeout=60), Feed(name='ci01-rig', key='ci01-rig', description=None, unit_type=None, unit_symbol=None, history=True, visibility='private', license=None, status_notify=False, status_timeout=60), Feed(name='ci01-task', key='ci01-task', description=None, unit_type=None, unit_symbol=None, history=True, visibility='private', license=None, status_notify=False, status_timeout=60), Feed(name='ci01-waterconsumed', key='ci01-waterconsumed', description=None, unit_type=None, unit_symbol=None, history=True, visibility='private', license=None, status_notify=False, status_timeout=60), Feed(name='ci01-targetconsumption', key='ci01-targetconsumption', description=None, unit_type=None, unit_symbol=None, history=True, visibility='private', license=None, status_notify=False, status_timeout=60), Feed(name='ci01-weight', key='ci01-weight', description=None, unit_type=None, unit_symbol=None, history=True, visibility='private', license=None, status_notify=False, status_timeout=60), Feed(name='ci01-performance', key='ci01-performance', description=None, unit_type=None, unit_symbol=None, history=True, visibility='private', license=None, status_notify=False, status_timeout=60), Feed(name='strongsad-rig', key='strongsad-rig', description=None, unit_type=None, unit_symbol=None, history=True, visibility='private', license=None, status_notify=False, status_timeout=60), Feed(name='strongsad-task', key='strongsad-task', description=None, unit_type=None, unit_symbol=None, history=True, visibility='private', license=None, status_notify=False, status_timeout=60), Feed(name='strongsad-waterconsumed', key='strongsad-waterconsumed', description=None, unit_type=None, unit_symbol=None, history=True, visibility='private', license=None, status_notify=False, status_timeout=60), Feed(name='strongsad-targetconsumption', key='strongsad-targetconsumption', description=None, unit_type=None, unit_symbol=None, history=True, visibility='private', license=None, status_notify=False, status_timeout=60), Feed(name='strongsad-weight', key='strongsad-weight', description=None, unit_type=None, unit_symbol=None, history=True, visibility='private', license=None, status_notify=False, status_timeout=60), Feed(name='strongsad-performance', key='strongsad-performance', description=None, unit_type=None, unit_symbol=None, history=True, visibility='private', license=None, status_notify=False, status_timeout=60), Feed(name='an1-rig', key='an1-rig', description=None, unit_type=None, unit_symbol=None, history=True, visibility='private', license=None, status_notify=False, status_timeout=60), Feed(name='an1-task', key='an1-task', description=None, unit_type=None, unit_symbol=None, history=True, visibility='private', license=None, status_notify=False, status_timeout=60), Feed(name='an1-waterconsumed', key='an1-waterconsumed', description=None, unit_type=None, unit_symbol=None, history=True, visibility='private', license=None, status_notify=False, status_timeout=60), Feed(name='an1-targetconsumption', key='an1-targetconsumption', description=None, unit_type=None, unit_symbol=None, history=True, visibility='private', license=None, status_notify=False, status_timeout=60), Feed(name='an1-weight', key='an1-weight', description=None, unit_type=None, unit_symbol=None, history=True, visibility='private', license=None, status_notify=False, status_timeout=60), Feed(name='an1-performance', key='an1-performance', description=None, unit_type=None, unit_symbol=None, history=True, visibility='private', license=None, status_notify=False, status_timeout=60), Feed(name='rig-cstwophotona', key='rig-cstwophotona', description=None, unit_type=None, unit_symbol=None, history=True, visibility='private', license=None, status_notify=False, status_timeout=60), Feed(name='testtext', key='testtext', description=None, unit_type=None, unit_symbol=None, history=True, visibility='private', license=None, status_notify=False, status_timeout=60), Feed(name='cix19-rig', key='cix19-rig', description=None, unit_type=None, unit_symbol=None, history=True, visibility='private', license=None, status_notify=False, status_timeout=60), Feed(name='cix19-task', key='cix19-task', description=None, unit_type=None, unit_symbol=None, history=True, visibility='private', license=None, status_notify=False, status_timeout=60), Feed(name='cix19-waterconsumed', key='cix19-waterconsumed', description=None, unit_type=None, unit_symbol=None, history=True, visibility='private', license=None, status_notify=False, status_timeout=60), Feed(name='cix19-targetconsumption', key='cix19-targetconsumption', description=None, unit_type=None, unit_symbol=None, history=True, visibility='private', license=None, status_notify=False, status_timeout=60), Feed(name='cix19-weight', key='cix19-weight', description=None, unit_type=None, unit_symbol=None, history=True, visibility='private', license=None, status_notify=False, status_timeout=60), Feed(name='cix19-performance', key='cix19-performance', description=None, unit_type=None, unit_symbol=None, history=True, visibility='private', license=None, status_notify=False, status_timeout=60), Feed(name='cix19-notes', key='cix19-notes', description=None, unit_type=None, unit_symbol=None, history=True, visibility='private', license=None, status_notify=False, status_timeout=60), Feed(name='cix100-rig', key='cix100-rig', description=None, unit_type=None, unit_symbol=None, history=True, visibility='private', license=None, status_notify=False, status_timeout=60), Feed(name='cix100-task', key='cix100-task', description=None, unit_type=None, unit_symbol=None, history=True, visibility='private', license=None, status_notify=False, status_timeout=60), Feed(name='cix100-waterconsumed', key='cix100-waterconsumed', description=None, unit_type=None, unit_symbol=None, history=True, visibility='private', license=None, status_notify=False, status_timeout=60), Feed(name='cix100-targetconsumption', key='cix100-targetconsumption', description=None, unit_type=None, unit_symbol=None, history=True, visibility='private', license=None, status_notify=False, status_timeout=60), Feed(name='cix100-weight', key='cix100-weight', description=None, unit_type=None, unit_symbol=None, history=True, visibility='private', license=None, status_notify=False, status_timeout=60), Feed(name='cix100-performance', key='cix100-performance', description=None, unit_type=None, unit_symbol=None, history=True, visibility='private', license=None, status_notify=False, status_timeout=60), Feed(name='cix100-notes', key='cix100-notes', description=None, unit_type=None, unit_symbol=None, history=True, visibility='private', license=None, status_notify=False, status_timeout=60), Feed(name='an1-notes', key='an1-notes', description=None, unit_type=None, unit_symbol=None, history=True, visibility='private', license=None, status_notify=False, status_timeout=60), Feed(name='cisom7-rig', key='cisom7-rig', description=None, unit_type=None, unit_symbol=None, history=True, visibility='private', license=None, status_notify=False, status_timeout=60), Feed(name='cisom7-task', key='cisom7-task', description=None, unit_type=None, unit_symbol=None, history=True, visibility='private', license=None, status_notify=False, status_timeout=60), Feed(name='cisom7-waterconsumed', key='cisom7-waterconsumed', description=None, unit_type=None, unit_symbol=None, history=True, visibility='private', license=None, status_notify=False, status_timeout=60), Feed(name='cisom7-targetconsumption', key='cisom7-targetconsumption', description=None, unit_type=None, unit_symbol=None, history=True, visibility='private', license=None, status_notify=False, status_timeout=60), Feed(name='cisom7-weight', key='cisom7-weight', description=None, unit_type=None, unit_symbol=None, history=True, visibility='private', license=None, status_notify=False, status_timeout=60), Feed(name='cisom7-performance', key='cisom7-performance', description=None, unit_type=None, unit_symbol=None, history=True, visibility='private', license=None, status_notify=False, status_timeout=60), Feed(name='cisom7-notes', key='cisom7-notes', description=None, unit_type=None, unit_symbol=None, history=True, visibility='private', license=None, status_notify=False, status_timeout=60), Feed(name='sm1750-rig', key='sm1750-rig', description=None, unit_type=None, unit_symbol=None, history=True, visibility='private', license=None, status_notify=False, status_timeout=60), Feed(name='sm1750-task', key='sm1750-task', description=None, unit_type=None, unit_symbol=None, history=True, visibility='private', license=None, status_notify=False, status_timeout=60), Feed(name='sm1750-waterconsumed', key='sm1750-waterconsumed', description=None, unit_type=None, unit_symbol=None, history=True, visibility='private', license=None, status_notify=False, status_timeout=60), Feed(name='sm1750-targetconsumption', key='sm1750-targetconsumption', description=None, unit_type=None, unit_symbol=None, history=True, visibility='private', license=None, status_notify=False, status_timeout=60), Feed(name='sm1750-weight', key='sm1750-weight', description=None, unit_type=None, unit_symbol=None, history=True, visibility='private', license=None, status_notify=False, status_timeout=60), Feed(name='sm1750-performance', key='sm1750-performance', description=None, unit_type=None, unit_symbol=None, history=True, visibility='private', license=None, status_notify=False, status_timeout=60), Feed(name='sm1750-notes', key='sm1750-notes', description=None, unit_type=None, unit_symbol=None, history=True, visibility='private', license=None, status_notify=False, status_timeout=60), Feed(name='sm1778-rig', key='sm1778-rig', description=None, unit_type=None, unit_symbol=None, history=True, visibility='private', license=None, status_notify=False, status_timeout=60), Feed(name='sm1778-task', key='sm1778-task', description=None, unit_type=None, unit_symbol=None, history=True, visibility='private', license=None, status_notify=False, status_timeout=60), Feed(name='sm1778-waterconsumed', key='sm1778-waterconsumed', description=None, unit_type=None, unit_symbol=None, history=True, visibility='private', license=None, status_notify=False, status_timeout=60), Feed(name='sm1778-targetconsumption', key='sm1778-targetconsumption', description=None, unit_type=None, unit_symbol=None, history=True, visibility='private', license=None, status_notify=False, status_timeout=60), Feed(name='sm1778-weight', key='sm1778-weight', description=None, unit_type=None, unit_symbol=None, history=True, visibility='private', license=None, status_notify=False, status_timeout=60), Feed(name='sm1778-performance', key='sm1778-performance', description=None, unit_type=None, unit_symbol=None, history=True, visibility='private', license=None, status_notify=False, status_timeout=60), Feed(name='sm1778-notes', key='sm1778-notes', description=None, unit_type=None, unit_symbol=None, history=True, visibility='private', license=None, status_notify=False, status_timeout=60), Feed(name='sm1781-rig', key='sm1781-rig', description=None, unit_type=None, unit_symbol=None, history=True, visibility='private', license=None, status_notify=False, status_timeout=60), Feed(name='sm1781-task', key='sm1781-task', description=None, unit_type=None, unit_symbol=None, history=True, visibility='private', license=None, status_notify=False, status_timeout=60), Feed(name='sm1781-waterconsumed', key='sm1781-waterconsumed', description=None, unit_type=None, unit_symbol=None, history=True, visibility='private', license=None, status_notify=False, status_timeout=60), Feed(name='sm1781-targetconsumption', key='sm1781-targetconsumption', description=None, unit_type=None, unit_symbol=None, history=True, visibility='private', license=None, status_notify=False, status_timeout=60), Feed(name='sm1781-weight', key='sm1781-weight', description=None, unit_type=None, unit_symbol=None, history=True, visibility='private', license=None, status_notify=False, status_timeout=60), Feed(name='sm1781-performance', key='sm1781-performance', description=None, unit_type=None, unit_symbol=None, history=True, visibility='private', license=None, status_notify=False, status_timeout=60), Feed(name='sm1781-notes', key='sm1781-notes', description=None, unit_type=None, unit_symbol=None, history=True, visibility='private', license=None, status_notify=False, status_timeout=60), Feed(name='sm1754-rig', key='sm1754-rig', description=None, unit_type=None, unit_symbol=None, history=True, visibility='private', license=None, status_notify=False, status_timeout=60), Feed(name='sm1754-task', key='sm1754-task', description=None, unit_type=None, unit_symbol=None, history=True, visibility='private', license=None, status_notify=False, status_timeout=60), Feed(name='sm1754-waterconsumed', key='sm1754-waterconsumed', description=None, unit_type=None, unit_symbol=None, history=True, visibility='private', license=None, status_notify=False, status_timeout=60), Feed(name='sm1754-targetconsumption', key='sm1754-targetconsumption', description=None, unit_type=None, unit_symbol=None, history=True, visibility='private', license=None, status_notify=False, status_timeout=60), Feed(name='sm1754-weight', key='sm1754-weight', description=None, unit_type=None, unit_symbol=None, history=True, visibility='private', license=None, status_notify=False, status_timeout=60), Feed(name='sm1754-performance', key='sm1754-performance', description=None, unit_type=None, unit_symbol=None, history=True, visibility='private', license=None, status_notify=False, status_timeout=60), Feed(name='sm1754-notes', key='sm1754-notes', description=None, unit_type=None, unit_symbol=None, history=True, visibility='private', license=None, status_notify=False, status_timeout=60), Feed(name='cisom7-topvol', key='cisom7-topvol', description=None, unit_type=None, unit_symbol=None, history=True, visibility='private', license=None, status_notify=False, status_timeout=60), Feed(name='aa-rig', key='aa-rig', description=None, unit_type=None, unit_symbol=None, history=True, visibility='private', license=None, status_notify=False, status_timeout=60), Feed(name='aa-waterconsumed', key='aa-waterconsumed', description=None, unit_type=None, unit_symbol=None, history=True, visibility='private', license=None, status_notify=False, status_timeout=60), Feed(name='aa-topvol', key='aa-topvol', description=None, unit_type=None, unit_symbol=None, history=True, visibility='private', license=None, status_notify=False, status_timeout=60), Feed(name='aa-weight', key='aa-weight', description=None, unit_type=None, unit_symbol=None, history=True, visibility='private', license=None, status_notify=False, status_timeout=60), Feed(name='rig-cadbook', key='rig-cadbook', description=None, unit_type=None, unit_symbol=None, history=True, visibility='private', license=None, status_notify=False, status_timeout=60), Feed(name='cad-rig', key='cad-rig', description=None, unit_type=None, unit_symbol=None, history=True, visibility='private', license=None, status_notify=False, status_timeout=60), Feed(name='cad-task', key='cad-task', description=None, unit_type=None, unit_symbol=None, history=True, visibility='private', license=None, status_notify=False, status_timeout=60), Feed(name='cad-waterconsumed', key='cad-waterconsumed', description=None, unit_type=None, unit_symbol=None, history=True, visibility='private', license=None, status_notify=False, status_timeout=60), Feed(name='cad-waterneeded', key='cad-waterneeded', description=None, unit_type=None, unit_symbol=None, history=True, visibility='private', license=None, status_notify=False, status_timeout=60), Feed(name='cad-weight', key='cad-weight', description=None, unit_type=None, unit_symbol=None, history=True, visibility='private', license=None, status_notify=False, status_timeout=60), Feed(name='cad-dprime', key='cad-dprime', description=None, unit_type=None, unit_symbol=None, history=True, visibility='private', license=None, status_notify=False, status_timeout=60), Feed(name='cad-criterion', key='cad-criterion', description=None, unit_type=None, unit_symbol=None, history=True, visibility='private', license=None, status_notify=False, status_timeout=60), Feed(name='cad-trials', key='cad-trials', description=None, unit_type=None, unit_symbol=None, history=True, visibility='private', license=None, status_notify=False, status_timeout=60), Feed(name='cad-experimenter', key='cad-experimenter', description=None, unit_type=None, unit_symbol=None, history=True, visibility='private', license=None, status_notify=False, status_timeout=60), Feed(name='cad-notes', key='cad-notes', description=None, unit_type=None, unit_symbol=None, history=True, visibility='private', license=None, status_notify=False, status_timeout=60)]\n"
     ]
    }
   ],
   "source": [
    "print(allFeeds)"
   ]
  },
  {
   "cell_type": "code",
   "execution_count": 12,
   "metadata": {},
   "outputs": [
    {
     "name": "stdout",
     "output_type": "stream",
     "text": [
      "Feed(name='rig-ubuntu', key='rig-ubuntu', description=None, unit_type=None, unit_symbol=None, history=True, visibility='private', license=None, status_notify=False, status_timeout=60)\n"
     ]
    }
   ],
   "source": [
    "# let's see what a feed's metadata contains.\n",
    "print(allFeeds[1])"
   ]
  },
  {
   "cell_type": "markdown",
   "metadata": {},
   "source": [
    "#### The name is needed to create the feed, but the key is how it is addressed later. By default, the API will respect formating of text, but not the key. So, keep this in mind. "
   ]
  },
  {
   "cell_type": "code",
   "execution_count": 18,
   "metadata": {},
   "outputs": [
    {
     "name": "stdout",
     "output_type": "stream",
     "text": [
      "Feed(name='cad-rig', key='cad-rig', description=None, unit_type=None, unit_symbol=None, history=True, visibility='private', license=None, status_notify=False, status_timeout=60)\n"
     ]
    }
   ],
   "source": [
    "thisFeed = aio.feeds('cad-rig')\n",
    "print(thisFeed)"
   ]
  },
  {
   "cell_type": "code",
   "execution_count": 14,
   "metadata": {},
   "outputs": [],
   "source": [
    "# lets create a feed with an uppercase char, this is ok\n",
    "feedName = \"asciiFeed\"\n",
    "feed = Feed(feedName)\n",
    "createResult = aio.create_feed(feed)"
   ]
  },
  {
   "cell_type": "code",
   "execution_count": 43,
   "metadata": {},
   "outputs": [
    {
     "name": "stdout",
     "output_type": "stream",
     "text": [
      "Feed(name='asciiFeed', key='asciifeed', description=None, unit_type=None, unit_symbol=None, history=True, visibility='private', license=None, status_notify=False, status_timeout=60)\n"
     ]
    }
   ],
   "source": [
    "print(createResult)"
   ]
  },
  {
   "cell_type": "code",
   "execution_count": 45,
   "metadata": {},
   "outputs": [
    {
     "name": "stdout",
     "output_type": "stream",
     "text": [
      "Feed(name='asciiFeed', key='asciifeed', description=None, unit_type=None, unit_symbol=None, history=True, visibility='private', license=None, status_notify=False, status_timeout=60)\n"
     ]
    }
   ],
   "source": [
    "# but to access it, we have to ask for lowercase only, because note above the key is lowercase\n",
    "thisFeed = aio.feeds(feedName.lower())\n",
    "print(thisFeed)"
   ]
  },
  {
   "cell_type": "code",
   "execution_count": 46,
   "metadata": {},
   "outputs": [],
   "source": [
    "# now let's delete the feed\n",
    "feed = aio.delete_feed(feedName.lower())"
   ]
  },
  {
   "cell_type": "code",
   "execution_count": 64,
   "metadata": {},
   "outputs": [],
   "source": [
    "from dateutil.parser import parse as dParse\n",
    "from datetime import timezone"
   ]
  },
  {
   "cell_type": "code",
   "execution_count": 80,
   "metadata": {},
   "outputs": [],
   "source": [
    "v=aio.receive('cad-waterconsumed')\n",
    "pv=dParse(v.created_at)\n",
    "now = datetime.datetime.now(timezone.utc)\n",
    "wAm = v.value"
   ]
  },
  {
   "cell_type": "code",
   "execution_count": 78,
   "metadata": {},
   "outputs": [],
   "source": [
    "timeSinceLast = now-pv"
   ]
  },
  {
   "cell_type": "code",
   "execution_count": 89,
   "metadata": {},
   "outputs": [
    {
     "data": {
      "text/plain": [
       "122.68"
      ]
     },
     "execution_count": 89,
     "metadata": {},
     "output_type": "execute_result"
    }
   ],
   "source": [
    "float('{:0.2f}'.format(timeSinceLast.total_seconds()/3600))"
   ]
  },
  {
   "cell_type": "code",
   "execution_count": 81,
   "metadata": {},
   "outputs": [
    {
     "data": {
      "text/plain": [
       "'0.0'"
      ]
     },
     "execution_count": 81,
     "metadata": {},
     "output_type": "execute_result"
    }
   ],
   "source": [
    "wAm"
   ]
  },
  {
   "cell_type": "code",
   "execution_count": null,
   "metadata": {},
   "outputs": [],
   "source": [
    "latch = 0\n",
    "dReport = [0,0,0,0,0,0,0,0,0,0,0,0,0]\n",
    "def modelTeensy(dReport,state,latch,latchTimer,latchTime):\n",
    "    if latch == 0:\n",
    "        lastState = dReport[3]\n",
    "        dReport[0] = dReport[0]+1\n",
    "        dReport[1] = dReport[1]+1\n",
    "        dReport[2] = dReport[2]+1\n",
    "        dReport[3] = state\n",
    "        if dReport[3] != lastState:\n",
    "            dReport[2] = 0\n",
    "        latch = 1\n",
    "        newData = 1\n",
    "    elif latch == 1:\n",
    "        latchTimer = latchTimer + 1\n",
    "        if latchTimer >= latchTime:\n",
    "            latchTimer = 0\n",
    "            latch = 0\n",
    "        newData = 1\n",
    "    return dReport\n",
    "    "
   ]
  }
 ],
 "metadata": {
  "kernelspec": {
   "display_name": "Python 3",
   "language": "python",
   "name": "python3"
  },
  "language_info": {
   "codemirror_mode": {
    "name": "ipython",
    "version": 3
   },
   "file_extension": ".py",
   "mimetype": "text/x-python",
   "name": "python",
   "nbconvert_exporter": "python",
   "pygments_lexer": "ipython3",
   "version": "3.6.6"
  }
 },
 "nbformat": 4,
 "nbformat_minor": 2
}

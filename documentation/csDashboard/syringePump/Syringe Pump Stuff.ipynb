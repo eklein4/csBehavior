{
 "cells": [
  {
   "cell_type": "markdown",
   "metadata": {},
   "source": [
    "## Calculating Syringe Pump Res\n",
    "\n",
    "[Standard 3d printer rod](http://a.co/2bzB7sH)\n",
    "\n",
    "[An example of a 2mm lead](http://a.co/0LWAlhL)"
   ]
  },
  {
   "cell_type": "code",
   "execution_count": 1,
   "metadata": {},
   "outputs": [],
   "source": [
    "# Define Stuff and Import Dependencies\n",
    "\n",
    "from math import pi\n",
    "\n",
    "# We will use luer BDs, but these seemed close.\n",
    "# http://www.restek.com/norm-ject-specs\n",
    "\n",
    "# define common syringes and rods.\n",
    "syr_3ml={'lenInMM':65.1,'diamInMM':9.65}\n",
    "syr_10ml={'lenInMM':85.3,'diamInMM':15.9}\n",
    "syr_50ml={'lenInMM':120.3,'diamInMM':29.2}\n",
    "\n",
    "# standard T8 3d printer rod is 8 mm per turn.\n",
    "rod_std={'threadStarts':4,'pitchInMM':2}\n",
    "rod_fine={'threadStarts':1,'pitchInMM':2}\n",
    "\n",
    "stepsPerRev=256  # TNC2130 does 256 native.\n",
    "motorCoils=8"
   ]
  },
  {
   "cell_type": "code",
   "execution_count": 5,
   "metadata": {},
   "outputs": [
    {
     "name": "stdout",
     "output_type": "stream",
     "text": [
      "0.58 ul per step\n"
     ]
    }
   ],
   "source": [
    "# Pick a syringe and rod, calculate its resolution.\n",
    "# This is the standard rod example.\n",
    "\n",
    "# ---- Edit these.\n",
    "\n",
    "syrToUse=syr_10ml\n",
    "rodToUse=rod_std\n",
    "\n",
    "\n",
    "# ------- Don't Edit.\n",
    "threadStarts=rodToUse['threadStarts']\n",
    "mmPerTurn=rodToUse['pitchInMM']\n",
    "heightInMM=syrToUse['lenInMM']\n",
    "diamInMM=syrToUse['diamInMM']\n",
    "\n",
    "\n",
    "radiusInMM=diamInMM/2\n",
    "cVolume=heightInMM*pi*radiusInMM*radiusInMM\n",
    "\n",
    "leadsPerLength=(threadStarts*mmPerTurn)/heightInMM   # 4 starts, 2 mm per turn. Lead is distance traveled per turn.\n",
    "volPerLeadInUL=leadsPerLength*pi*radiusInMM*radiusInMM\n",
    "volPerStepInUL=((leadsPerLength/(stepsPerRev/motorCoils))*pi*radiusInMM*radiusInMM)\n",
    "\n",
    "print ('{:0.2f} ul per step'.format(volPerStepInUL))"
   ]
  },
  {
   "cell_type": "code",
   "execution_count": 4,
   "metadata": {},
   "outputs": [
    {
     "name": "stdout",
     "output_type": "stream",
     "text": [
      "0.15 ul per step\n"
     ]
    }
   ],
   "source": [
    "# Pick a syringe and rod, calculate its resolution.\n",
    "# This is the fine rod example.\n",
    "\n",
    "# ---- Edit these.\n",
    "\n",
    "syrToUse=syr_10ml\n",
    "rodToUse=rod_fine\n",
    "\n",
    "\n",
    "# ------- Don't Edit.\n",
    "threadStarts=rodToUse['threadStarts']\n",
    "mmPerTurn=rodToUse['pitchInMM']\n",
    "heightInMM=syrToUse['lenInMM']\n",
    "diamInMM=syrToUse['diamInMM']\n",
    "\n",
    "\n",
    "radiusInMM=diamInMM/2\n",
    "cVolume=heightInMM*pi*radiusInMM*radiusInMM\n",
    "\n",
    "leadsPerLength=(threadStarts*mmPerTurn)/heightInMM   # 4 starts, 2 mm per turn. Lead is distance traveled per turn.\n",
    "volPerLeadInUL=leadsPerLength*pi*radiusInMM*radiusInMM\n",
    "volPerStepInUL=((leadsPerLength/(stepsPerRev/motorCoils))*pi*radiusInMM*radiusInMM)\n",
    "\n",
    "print ('{:0.2f} ul per step'.format(volPerStepInUL))"
   ]
  }
 ],
 "metadata": {
  "kernelspec": {
   "display_name": "Python 3",
   "language": "python",
   "name": "python3"
  },
  "language_info": {
   "codemirror_mode": {
    "name": "ipython",
    "version": 3
   },
   "file_extension": ".py",
   "mimetype": "text/x-python",
   "name": "python",
   "nbconvert_exporter": "python",
   "pygments_lexer": "ipython3",
   "version": "3.6.5"
  }
 },
 "nbformat": 4,
 "nbformat_minor": 2
}
